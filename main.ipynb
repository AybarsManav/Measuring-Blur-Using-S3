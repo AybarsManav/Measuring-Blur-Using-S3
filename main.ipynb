{
 "cells": [
  {
   "cell_type": "code",
   "execution_count": 27,
   "id": "a65dc63f",
   "metadata": {},
   "outputs": [],
   "source": [
    "import os\n",
    "import cv2 as cv\n",
    "import numpy as np\n",
    "import matplotlib.pyplot as plt\n",
    "from s3 import S3\n",
    "from depth_focus import apply_depth_based_gaussian\n",
    "from cpbd.compute import *\n",
    "from MMZ_paper import *\n",
    "from scores import *\n",
    "import pandas as pd\n",
    "\n",
    "def normalize_float_image_for_saving(img, cmap='gray'):\n",
    "    norm_img = (img * 255).astype(np.uint8)\n",
    "    return norm_img"
   ]
  },
  {
   "cell_type": "markdown",
   "id": "fcbe8836",
   "metadata": {},
   "source": [
    "# Dataset tid2008 should be under the working directory"
   ]
  },
  {
   "cell_type": "markdown",
   "id": "fc94b276",
   "metadata": {},
   "source": [
    "Load an RGBD image for depth blur (generating function is in depth_focus.py), an image for global blur, an image for motion blur.\n"
   ]
  },
  {
   "cell_type": "code",
   "execution_count": 18,
   "id": "c05c1152",
   "metadata": {},
   "outputs": [],
   "source": [
    "# Load an RGBD image\n",
    "rgb_image = cv.imread(\"rgb.jpg\")\n",
    "depth_image = cv.imread(\"depth.png\", cv.IMREAD_GRAYSCALE)\n",
    "depth_image = depth_image.astype(np.float32)\n",
    "# Load anoter RGB image\n",
    "image = cv.imread(\"tid2008/reference_images/I01.BMP\")"
   ]
  },
  {
   "cell_type": "markdown",
   "id": "dc0f726a",
   "metadata": {},
   "source": [
    "Apply different blurring techniques"
   ]
  },
  {
   "cell_type": "code",
   "execution_count": null,
   "id": "2535c4fe",
   "metadata": {},
   "outputs": [],
   "source": [
    "# Gaussian blur images\n",
    "blurred_gaussian_images = [image]\n",
    "for sigma in [0.5, 1.0, 2.0]:\n",
    "    blurred_image = cv.GaussianBlur(image, (0, 0), sigma)\n",
    "    blurred_gaussian_images.append(blurred_image)\n",
    "\n",
    "# Depth blur using the depth image\n",
    "blurred_depth_images = [rgb_image]\n",
    "for focused_depth_val in [50, 100, 200]:\n",
    "    depth_blurred_image = apply_depth_based_gaussian(rgb_image, depth_image, focused_depth_val)\n",
    "    blurred_depth_images.append(depth_blurred_image)\n",
    "\n",
    "# Motion blur images\n",
    "running_man_original = cv.imread(\"running.png\", cv.IMREAD_GRAYSCALE)\n",
    "running_man_blurred = cv.imread(\"running man blurred.jpg\", cv.IMREAD_GRAYSCALE)\n",
    "blurred_motion_images = [running_man_original, running_man_blurred]"
   ]
  },
  {
   "cell_type": "markdown",
   "id": "f44deae1",
   "metadata": {},
   "source": [
    "# Using CPBD"
   ]
  },
  {
   "cell_type": "code",
   "execution_count": null,
   "id": "7512e3a8",
   "metadata": {},
   "outputs": [],
   "source": [
    "# Compute blur level estimations using CPBD\n",
    "cpbd_results_blurred_gaussian_images = []\n",
    "for img in blurred_gaussian_images:\n",
    "    blurmap, score = compute_cpbd_blur_map_and_score(cv.cvtColor(img, cv.cv.COLOR_BGR2GRAY))\n",
    "    cpbd_results_blurred_gaussian_images.append(score)  # A single scalar value\n",
    "\n",
    "cpbd_results_depth_images = []\n",
    "for img in blurred_depth_images:\n",
    "    blurmap, score = compute_cpbd_blur_map_and_score(cv.cvtColor(img, cv.cv.COLOR_BGR2GRAY))\n",
    "    cpbd_results_depth_images.append(score) # A single scalar value\n",
    "\n",
    "cpbd_results_blurred_motion_images = []\n",
    "for img in blurred_motion_images:\n",
    "    blurmap, score = compute_cpbd_blur_map_and_score(img) # Assuming the image is already grayscale\n",
    "    cpbd_results_blurred_motion_images.append(score) # A single scalar value"
   ]
  },
  {
   "cell_type": "markdown",
   "id": "d3b65979",
   "metadata": {},
   "source": [
    "# Using MMZ"
   ]
  },
  {
   "cell_type": "code",
   "execution_count": null,
   "id": "fe7f99d7",
   "metadata": {},
   "outputs": [],
   "source": [
    "cpbd_results_blurred_gaussian_images = []\n",
    "for img in blurred_depth_images:\n",
    "    _, padded_image = bd.check_image_size(cv.cvtColor(img, cv.cv.COLOR_BGR2GRAY))\n",
    "    sharpness_map = 1 - bd.get_blurness(padded_image)\n",
    "    score = np.mean(sharpness_map)\n",
    "   \n",
    "\n",
    "for img in blurred_gaussian_images:\n",
    "    _, padded_image = bd.check_image_size(cv.cvtColor(img, cv.cv.COLOR_BGR2GRAY))\n",
    "    sharpness_map = 1 - bd.get_blurness(padded_image)\n",
    "    score = np.mean(sharpness_map)\n",
    "\n",
    "for img in cpbd_results_blurred_motion_images:\n",
    "    _, padded_image = bd.check_image_size(img)\n",
    "    sharpness_map = 1 - bd.get_blurness(padded_image)\n",
    "    score = np.mean(sharpness_map)"
   ]
  },
  {
   "cell_type": "markdown",
   "id": "090c822b",
   "metadata": {},
   "source": [
    "# Using S3"
   ]
  },
  {
   "cell_type": "code",
   "execution_count": null,
   "id": "1863505c",
   "metadata": {},
   "outputs": [],
   "source": [
    "# Compute blur level estimations using S3\n",
    "s3 = S3()\n",
    "s3_results_blurred_gaussian_images = []\n",
    "for img in blurred_gaussian_images:\n",
    "    result = s3.compute_s3(img) # s1, s2, s3 maps and the final score\n",
    "    s3_results_blurred_gaussian_images.append(result)\n",
    "\n",
    "s3_results_blurred_depth_images = []\n",
    "for img in blurred_depth_images:\n",
    "    result = s3.compute_s3(img) # s1, s2, s3 maps and the final score\n",
    "    s3_results_blurred_depth_images.append(result)\n",
    "\n",
    "s3_results_blurred_motion_images = []\n",
    "for img in blurred_motion_images:\n",
    "    result = s3.compute_s3(img) # s1, s2, s3 maps and the final score\n",
    "    s3_results_blurred_motion_images.append(result)\n",
    "    \n",
    "results_folder = \"results/s3_results/\"\n",
    "os.makedirs(results_folder, exist_ok=True)\n",
    "for i, img in enumerate(blurred_gaussian_images):\n",
    "    s3_score = s3_results_blurred_gaussian_images[i][3]  # Final score\n",
    "    cv.imwrite(results_folder + f\"blurred_gaussian_{i}_s3_{s3_score:.2f}.png\", img)\n",
    "    cv.imwrite(results_folder + f\"s1_blurred_gaussian_{i}.png\", normalize_float_image_for_saving(s3_results_blurred_gaussian_images[i][0]))\n",
    "    cv.imwrite(results_folder + f\"s2_blurred_gaussian_{i}.png\", normalize_float_image_for_saving(s3_results_blurred_gaussian_images[i][1]))\n",
    "    cv.imwrite(results_folder + f\"s3_blurred_gaussian_{i}.png\", normalize_float_image_for_saving(s3_results_blurred_gaussian_images[i][2]))\n",
    "\n",
    "for i, img in enumerate(blurred_depth_images):\n",
    "    s3_score = s3_results_blurred_depth_images[i][3]  # Final score\n",
    "    cv.imwrite(results_folder + f\"blurred_depth_{i}_s3_{s3_score:.2f}.png\", img)\n",
    "    cv.imwrite(results_folder + f\"s1_blurred_depth_{i}.png\", normalize_float_image_for_saving(s3_results_blurred_depth_images[i][0]))\n",
    "    cv.imwrite(results_folder + f\"s2_blurred_depth_{i}.png\", normalize_float_image_for_saving(s3_results_blurred_depth_images[i][1]))\n",
    "    cv.imwrite(results_folder + f\"s3_blurred_depth_{i}.png\", normalize_float_image_for_saving(s3_results_blurred_depth_images[i][2]))\n",
    "\n",
    "for i, img in enumerate(blurred_motion_images):\n",
    "    s3_score = s3_results_blurred_motion_images[i][3]  # Final score\n",
    "    cv.imwrite(results_folder + f\"blurred_motion_{i}_s3_{s3_score:.2f}.png\", img)\n",
    "    cv.imwrite(results_folder + f\"s1_blurred_motion_{i}.png\", normalize_float_image_for_saving(s3_results_blurred_motion_images[i][0]))\n",
    "    cv.imwrite(results_folder + f\"s2_blurred_motion_{i}.png\", normalize_float_image_for_saving(s3_results_blurred_motion_images[i][1]))\n",
    "    cv.imwrite(results_folder + f\"s3_blurred_motion_{i}.png\", normalize_float_image_for_saving(s3_results_blurred_motion_images[i][2]))"
   ]
  },
  {
   "cell_type": "markdown",
   "id": "d06d2612",
   "metadata": {},
   "source": [
    "### Reproducing TID2008 global blur figures in the report"
   ]
  },
  {
   "cell_type": "code",
   "execution_count": null,
   "id": "8579f900",
   "metadata": {},
   "outputs": [
    {
     "name": "stdout",
     "output_type": "stream",
     "text": [
      "61\n",
      "61\n",
      "61\n",
      "61\n",
      "    Blur Strength     Score Algorithm\n",
      "0               0  0.578534      CPBD\n",
      "1               1  0.391636      CPBD\n",
      "2               2  0.242802      CPBD\n",
      "3               3  0.049812      CPBD\n",
      "4               0  0.588528        S3\n",
      "5               1  0.300445        S3\n",
      "6               2  0.120586        S3\n",
      "7               3  0.067587        S3\n",
      "8               0  0.467142       MMZ\n",
      "9               1  0.325200       MMZ\n",
      "10              2  0.252351       MMZ\n",
      "11              3  0.178368       MMZ\n"
     ]
    }
   ],
   "source": [
    "# Read an image and blurred versions for TID2008 dataset\n",
    "image_number = \"I07\"\n",
    "original_image = cv.imread(\"tid2008/reference_images/{image_number}.BMP\", cv.IMREAD_GRAYSCALE)\n",
    "blurred_images = []\n",
    "for i in range(1, 5):\n",
    "    blurred_image = cv.imread(f\"tid2008/distorted_images/{image_number}_08_{i}.bmp\", cv.IMREAD_GRAYSCALE)\n",
    "    blurred_images.append(blurred_image)\n",
    "\n",
    "# Make a dataframe to store the results\n",
    "df = pd.DataFrame(columns=[\"Blur Strength\", \"Score\", \"Algorithm\"])\n",
    "\n",
    "# Compute CPBD for the original and blurred images\n",
    "cpbd_maps = []\n",
    "for blur_level, img in enumerate([original_image] + blurred_images):\n",
    "    map, score = compute_cpbd_blur_map_and_score(img)\n",
    "    cpbd_maps.append(map)\n",
    "    # Add score to the dataframe along with blur level\n",
    "    df.loc[len(df)] = {\"Blur Strength\": blur_level, \"Score\": score, \"Algorithm\": \"CPBD\"}\n",
    "\n",
    "# Save CPBD maps for the original and blurred images\n",
    "cpbd_results_folder = \"results/tid2008_cpbd_images/\"\n",
    "os.makedirs(cpbd_results_folder, exist_ok=True)\n",
    "for i, img in enumerate([original_image] + blurred_images):\n",
    "    cpbd_map = cpbd_maps[i]\n",
    "    cv.imwrite(cpbd_results_folder + f\"tid2008_image_{i}_cpbd.png\", normalize_float_image_for_saving(cpbd_map))\n",
    "    cv.imwrite(cpbd_results_folder + f\"tid2008_image_{i}_cpbd_score_{df['Score'][i]:.2f}.png\", img)\n",
    "\n",
    "# Compute S3 maps for the original and blurred images\n",
    "s3 = S3()\n",
    "s3_results = []\n",
    "for blur_level, img in enumerate([original_image] + blurred_images):\n",
    "    result = s3.compute_s3(img)  # s1, s2, s3 maps and the final score\n",
    "    s3_results.append(result)\n",
    "    # Add score to the dataframe along with blur level\n",
    "    df.loc[len(df)] = {\"Blur Strength\": blur_level, \"Score\": result[3], \"Algorithm\": \"S3\"}\n",
    "\n",
    "# Save the results for S3 maps of TID2008 images\n",
    "tid2008_results_folder = \"results/tid2008_s3_images/\"\n",
    "os.makedirs(tid2008_results_folder, exist_ok=True)\n",
    "for i, img in enumerate([original_image] + blurred_images):\n",
    "    s3_score = s3_results[i][3]  # Final score\n",
    "    cv.imwrite(tid2008_results_folder + f\"tid2008_image_{i}_s3_{s3_score:.2f}.png\", img)\n",
    "    cv.imwrite(tid2008_results_folder + f\"s1_tid2008_image_{i}.png\", normalize_float_image_for_saving(s3_results[i][0]))\n",
    "    cv.imwrite(tid2008_results_folder + f\"s2_tid2008_image_{i}.png\", normalize_float_image_for_saving(s3_results[i][1]))\n",
    "    cv.imwrite(tid2008_results_folder + f\"s3_tid2008_image_{i}.png\", normalize_float_image_for_saving(s3_results[i][2]))\n",
    "\n",
    "# Compute the MMZ score and maps\n",
    "mmz_maps = []\n",
    "bd = BlurDetector()\n",
    "for blur_level, img in enumerate([original_image] + blurred_images):\n",
    "    _, padded_image = bd.check_image_size(img)\n",
    "    sharpness_map = 1 - bd.get_blurness(padded_image)\n",
    "    score = np.mean(sharpness_map)\n",
    "    mmz_maps.append(sharpness_map)\n",
    "    # Add score to the dataframe along with blur level\n",
    "    df.loc[len(df)] = {\"Blur Strength\": blur_level, \"Score\": score, \"Algorithm\": \"MMZ\"}\n",
    "\n",
    "# Save MMZ maps for the original and blurred images\n",
    "mmz_results_folder = \"results/tid2008_mmz_images/\"\n",
    "os.makedirs(mmz_results_folder, exist_ok=True)\n",
    "for i, img in enumerate([original_image] + blurred_images):\n",
    "    mmz_map = mmz_maps[i]\n",
    "    cv.imwrite(mmz_results_folder + f\"tid2008_image_{i}_mmz.png\", normalize_float_image_for_saving(mmz_map))\n",
    "    cv.imwrite(mmz_results_folder + f\"tid2008_image_{i}_mmz_score_{df['Score'][i]:.2f}.png\", img)\n",
    "\n",
    "# Save the dataframe to a CSV file\n",
    "df.to_csv(\"results/tid2008_blur_scores.csv\", index=False)\n",
    "# Display the dataframe\n",
    "print(df)\n"
   ]
  },
  {
   "cell_type": "code",
   "execution_count": null,
   "id": "dfafd28c",
   "metadata": {},
   "outputs": [
    {
     "name": "stdout",
     "output_type": "stream",
     "text": [
      "61\n",
      "61\n",
      "61\n",
      "61\n",
      "61\n",
      "61\n",
      "61\n",
      "61\n",
      "61\n",
      "61\n",
      "61\n",
      "61\n",
      "61\n",
      "61\n",
      "61\n",
      "61\n",
      "61\n",
      "61\n"
     ]
    }
   ],
   "source": [
    "# Computes spearman correlation scores for the algorithms\n",
    "compute_correlation_scores()"
   ]
  },
  {
   "cell_type": "markdown",
   "id": "d97aa947",
   "metadata": {},
   "source": [
    "### Reproducing motion blur images in the report"
   ]
  },
  {
   "cell_type": "code",
   "execution_count": null,
   "id": "85891ccc",
   "metadata": {},
   "outputs": [],
   "source": [
    "# Compute blur level estimations using MMZ\n",
    "bd = BlurDetector()\n",
    "mmz_results_folder = \"results/motion_blur_mmz_images/\"\n",
    "os.makedirs(mmz_results_folder, exist_ok=True)\n",
    "for img in blurred_motion_images:\n",
    "    _, padded_image = bd.check_image_size(cv.cvtColor(img, cv.COLOR_BGR2GRAY))\n",
    "    sharpness_map = 1 - bd.get_blurness(padded_image)\n",
    "    score = np.mean(sharpness_map)\n",
    "\n",
    "# Save MMZ maps for the motion blurred images\n",
    "for i, img in enumerate(blurred_motion_images):\n",
    "    mmz_map = sharpness_map\n",
    "    cv.imwrite(mmz_results_folder + f\"motion_blurred_image_{i}_mmz.png\", normalize_float_image_for_saving(mmz_map))\n",
    "    cv.imwrite(mmz_results_folder + f\"motion_blurred_image_{i}_mmz_score_{score:.2f}.png\", img)\n",
    "\n",
    "# Compute blur level estimation using S3 for motion blurred images\n",
    "s3_results_motion_blurred_images = []\n",
    "for img in blurred_motion_images:\n",
    "    result = s3.compute_s3(img)  # s1, s2, s3 maps and the final score\n",
    "    s3_results_motion_blurred_images.append(result)\n",
    "\n",
    "# Save the results for S3 maps of motion blurred images\n",
    "motion_blurred_results_folder = \"results/motion_blurred_s3_images/\"\n",
    "os.makedirs(motion_blurred_results_folder, exist_ok=True)\n",
    "for i, img in enumerate(blurred_motion_images):\n",
    "    s3_score = s3_results_motion_blurred_images[i][3]  # Final score\n",
    "    cv.imwrite(motion_blurred_results_folder + f\"motion_blurred_image_{i}_s3_{s3_score:.2f}.png\", img)\n",
    "    cv.imwrite(motion_blurred_results_folder + f\"s1_motion_blurred_image_{i}.png\", normalize_float_image_for_saving(s3_results_motion_blurred_images[i][0]))\n",
    "    cv.imwrite(motion_blurred_results_folder + f\"s2_motion_blurred_image_{i}.png\", normalize_float_image_for_saving(s3_results_motion_blurred_images[i][1]))\n",
    "    cv.imwrite(motion_blurred_results_folder + f\"s3_motion_blurred_image_{i}.png\", normalize_float_image_for_saving(s3_results_motion_blurred_images[i][2]))\n",
    "\n",
    "# Compute blur level estimation using CPBD for motion blurred images\n",
    "cpbd_results_motion_blurred_images = []\n",
    "for img in blurred_motion_images:\n",
    "    blurmap, score = compute_cpbd_blur_map_and_score(img)  # Assuming the image is already grayscale\n",
    "    cpbd_results_motion_blurred_images.append(score)  # A single scalar value\n",
    "\n",
    "# Save CPBD maps for the motion blurred images\n",
    "motion_blurred_cpbd_results_folder = \"results/motion_blurred_cpbd_images/\"\n",
    "os.makedirs(motion_blurred_cpbd_results_folder, exist_ok=True)\n",
    "for i, img in enumerate(blurred_motion_images):\n",
    "    cv.imwrite(motion_blurred_cpbd_results_folder + f\"motion_blurred_image_{i}_cpbd.png\", normalize_float_image_for_saving(cpbd_results_motion_blurred_images[i]))\n",
    "    cv.imwrite(motion_blurred_cpbd_results_folder + f\"motion_blurred_image_{i}_cpbd_score_{cpbd_results_motion_blurred_images[i]:.2f}.png\", img)"
   ]
  },
  {
   "cell_type": "markdown",
   "id": "b70d8eb6",
   "metadata": {},
   "source": [
    "### Reproducing depth blur images in the report"
   ]
  },
  {
   "cell_type": "code",
   "execution_count": null,
   "id": "e4738232",
   "metadata": {},
   "outputs": [],
   "source": [
    "# Process depth of field blur image using all methods\n",
    "blurred_depth_images = [rgb_image]\n",
    "for focused_depth_val in [50, 100, 200]:\n",
    "    depth_blurred_image = apply_depth_based_gaussian(rgb_image, depth_image, focused_depth_val)\n",
    "    blurred_depth_images.append(depth_blurred_image)\n",
    "\n",
    "# Compute blur level estimations using CPBD for depth of field images\n",
    "cpbd_results_depth_images = []\n",
    "for img in blurred_depth_images:\n",
    "    result, score = compute_cpbd_blur_map_and_score(cv.cvtColor(img, cv.COLOR_BGR2GRAY))\n",
    "    cpbd_results_depth_images.append(result)\n",
    "\n",
    "# Save CPBD maps for depth of field images\n",
    "cpbd_results_folder = \"results/depth_of_field_cpbd_images/\"\n",
    "os.makedirs(cpbd_results_folder, exist_ok=True)\n",
    "for i, img in enumerate(blurred_depth_images):\n",
    "    cpbd_map = cpbd_results_depth_images[i]\n",
    "    cv.imwrite(cpbd_results_folder + f\"depth_of_field_image_{i}_cpbd.png\", normalize_float_image_for_saving(cpbd_map))\n",
    "    cv.imwrite(cpbd_results_folder + f\"depth_of_field_image_{i}_cpbd_score_{score:.2f}.png\", img)\n",
    "\n",
    "# Compute S3 maps for depth of field images\n",
    "s3_results_depth_images = []\n",
    "for img in blurred_depth_images:\n",
    "    result = s3.compute_s3(img)  # s1, s2, s3 maps and the final score\n",
    "    s3_results_depth_images.append(result)\n",
    "\n",
    "# Save the results for S3 maps of depth of field images\n",
    "tid2008_results_folder = \"results/depth_of_field_s3_images/\"\n",
    "os.makedirs(tid2008_results_folder, exist_ok=True)\n",
    "for i, img in enumerate(blurred_depth_images):\n",
    "    s3_score = s3_results_depth_images[i][3]  # Final score\n",
    "    cv.imwrite(tid2008_results_folder + f\"depth_of_field_image_{i}_s3_{s3_score:.2f}.png\", img)\n",
    "    cv.imwrite(tid2008_results_folder + f\"s1_depth_of_field_image_{i}.png\", normalize_float_image_for_saving(s3_results_depth_images[i][0]))\n",
    "    cv.imwrite(tid2008_results_folder + f\"s2_depth_of_field_image_{i}.png\", normalize_float_image_for_saving(s3_results_depth_images[i][1]))\n",
    "    cv.imwrite(tid2008_results_folder + f\"s3_depth_of_field_image_{i}.png\", normalize_float_image_for_saving(s3_results_depth_images[i][2]))\n",
    "\n",
    "# Compute the MMZ score and maps for depth of field images\n",
    "mmz_maps_depth = []\n",
    "bd = BlurDetector()\n",
    "for blur_level, img in enumerate(blurred_depth_images):\n",
    "    _, padded_image = bd.check_image_size(img)\n",
    "    sharpness_map = 1 - bd.get_blurness(padded_image)\n",
    "    score = np.mean(sharpness_map)\n",
    "    mmz_maps_depth.append(sharpness_map)\n",
    "\n",
    "# Save MMZ maps for depth of field images\n",
    "mmz_results_folder_depth = \"results/depth_of_field_mmz_images/\"\n",
    "os.makedirs(mmz_results_folder_depth, exist_ok=True)\n",
    "for i, img in enumerate(blurred_depth_images):\n",
    "    mmz_map = mmz_maps_depth[i]\n",
    "    cv.imwrite(mmz_results_folder_depth + f\"depth_of_field_image_{i}_mmz.png\", normalize_float_image_for_saving(mmz_map))\n",
    "    cv.imwrite(mmz_results_folder_depth + f\"depth_of_field_image_{i}_mmz_score_{score:.2f}.png\", img)"
   ]
  }
 ],
 "metadata": {
  "kernelspec": {
   "display_name": "python-12",
   "language": "python",
   "name": "python3"
  },
  "language_info": {
   "codemirror_mode": {
    "name": "ipython",
    "version": 3
   },
   "file_extension": ".py",
   "mimetype": "text/x-python",
   "name": "python",
   "nbconvert_exporter": "python",
   "pygments_lexer": "ipython3",
   "version": "3.12.9"
  }
 },
 "nbformat": 4,
 "nbformat_minor": 5
}
