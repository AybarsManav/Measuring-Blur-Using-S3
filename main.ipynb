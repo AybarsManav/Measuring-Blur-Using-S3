{
 "cells": [
  {
   "cell_type": "code",
   "execution_count": null,
   "id": "a65dc63f",
   "metadata": {},
   "outputs": [],
   "source": [
    "import os\n",
    "import cv2 as cv\n",
    "import numpy as np\n",
    "import matplotlib.pyplot as plt\n",
    "from s3 import S3\n",
    "from depth_focus import apply_depth_based_gaussian\n",
    "from cpbd import compute_cpbd"
   ]
  },
  {
   "cell_type": "code",
   "execution_count": null,
   "id": "c05c1152",
   "metadata": {},
   "outputs": [],
   "source": [
    "# Load an RGBD image\n",
    "rgb_image = cv.imread(\"rgb.jpg\")\n",
    "depth_image = cv.imread(\"depth.png\", cv.IMREAD_GRAYSCALE)\n",
    "# Load anoter RGB image\n",
    "image = cv.imread(\"tid2008/reference_images/I01.BMP\")"
   ]
  },
  {
   "cell_type": "code",
   "execution_count": null,
   "id": "2535c4fe",
   "metadata": {},
   "outputs": [],
   "source": [
    "# Apply different types of blurs\n",
    "blurred_gaussian_images = [image]\n",
    "for sigma in [0.5, 1.0, 2.0]:\n",
    "    blurred_image = cv.GaussianBlur(image, (0, 0), sigma)\n",
    "    blurred_gaussian_images.append(blurred_image)\n",
    "# Depth blur using the depth image\n",
    "blurred_depth_images = [rgb_image]\n",
    "for focused_depth_val in [50, 100, 150]:\n",
    "    depth_blurred_image = apply_depth_based_gaussian(rgb_image, depth_image, focused_depth_val)\n",
    "    blurred_depth_images.append(depth_blurred_image)\n",
    "\n",
    "# Add motion blur\n",
    "blurred_motion_images = []"
   ]
  },
  {
   "cell_type": "code",
   "execution_count": null,
   "id": "7512e3a8",
   "metadata": {},
   "outputs": [],
   "source": [
    "# Compute blur level estimations using CPBD\n",
    "cpbd_results_blurred_gaussian_images = []\n",
    "for img in blurred_gaussian_images:\n",
    "    result = compute_cpbd(cv.cvtColor(img, cv.cv.COLOR_BGR2GRAY))\n",
    "    cpbd_results_blurred_gaussian_images.append(result) # A single scalar value\n",
    "\n",
    "cpbd_results_depth_images = []\n",
    "for img in blurred_depth_images:\n",
    "    result = compute_cpbd(cv.cvtColor(img, cv.cv.COLOR_BGR2GRAY))\n",
    "    cpbd_results_depth_images.append(result) # A single scalar value\n",
    "\n",
    "cpbd_results_blurred_motion_images = []\n",
    "for img in blurred_motion_images:\n",
    "    result = compute_cpbd(cv.cvtColor(img, cv.cv.COLOR_BGR2GRAY))\n",
    "    cpbd_results_blurred_motion_images.append(result) # A single scalar value"
   ]
  },
  {
   "cell_type": "code",
   "execution_count": null,
   "id": "1863505c",
   "metadata": {},
   "outputs": [],
   "source": [
    "# Compute blur level estimations using S3\n",
    "s3 = S3()\n",
    "s3_results_blurred_gaussian_images = []\n",
    "for img in blurred_gaussian_images:\n",
    "    result = s3.compute_s3(img) # s1, s2, s3 maps and the final score\n",
    "    s3_results_blurred_gaussian_images.append(result)\n",
    "\n",
    "s3_results_blurred_depth_images = []\n",
    "for img in blurred_depth_images:\n",
    "    result = s3.compute_s3(img) # s1, s2, s3 maps and the final score\n",
    "    s3_results_blurred_depth_images.append(result)\n",
    "\n",
    "s3_results_blurred_motion_images = []\n",
    "for img in blurred_motion_images:\n",
    "    result = s3.compute_s3(img) # s1, s2, s3 maps and the final score\n",
    "    s3_results_blurred_motion_images.append(result)"
   ]
  },
  {
   "cell_type": "code",
   "execution_count": null,
   "id": "6df4d626",
   "metadata": {},
   "outputs": [],
   "source": [
    "# Save results as images\n",
    "def normalize_float_image_for_saving(img, cmap='gray'):\n",
    "    norm_img = cv.normalize(img, None, 0, 255, cv.NORM_MINMAX, dtype=cv.CV_32F)\n",
    "    return norm_img\n",
    "\n",
    "results_folder = \"results/\"\n",
    "os.makedirs(results_folder, exist_ok=True)\n",
    "for i, img in enumerate(blurred_gaussian_images):\n",
    "    s3_score = s3_results_blurred_gaussian_images[i][3]  # Final score\n",
    "    cv.imwrite(results_folder + f\"blurred_gaussian_{i}_s3_{s3_score:.2f}.png\", img)\n",
    "    cv.imwrite(results_folder + f\"s1_blurred_gaussian_{i}.png\", normalize_float_image_for_saving(s3_results_blurred_gaussian_images[i][0]))\n",
    "    cv.imwrite(results_folder + f\"s2_blurred_gaussian_{i}.png\", normalize_float_image_for_saving(s3_results_blurred_gaussian_images[i][1]))\n",
    "    cv.imwrite(results_folder + f\"s3_blurred_gaussian_{i}.png\", normalize_float_image_for_saving(s3_results_blurred_gaussian_images[i][2]))\n",
    "\n",
    "for i, img in enumerate(blurred_depth_images):\n",
    "    s3_score = s3_results_blurred_depth_images[i][3]  # Final score\n",
    "    cv.imwrite(results_folder + f\"blurred_depth_{i}_s3_{s3_score:.2f}.png\", img)\n",
    "    cv.imwrite(results_folder + f\"s1_blurred_depth_{i}.png\", normalize_float_image_for_saving(s3_results_blurred_depth_images[i][0]))\n",
    "    cv.imwrite(results_folder + f\"s2_blurred_depth_{i}.png\", normalize_float_image_for_saving(s3_results_blurred_depth_images[i][1]))\n",
    "    cv.imwrite(results_folder + f\"s3_blurred_depth_{i}.png\", normalize_float_image_for_saving(s3_results_blurred_depth_images[i][2]))\n",
    "\n",
    "for i, img in enumerate(blurred_motion_images):\n",
    "    s3_score = s3_results_blurred_motion_images[i][3]  # Final score\n",
    "    cv.imwrite(results_folder + f\"blurred_motion_{i}_s3_{s3_score:.2f}.png\", img)\n",
    "    cv.imwrite(results_folder + f\"s1_blurred_motion_{i}.png\", normalize_float_image_for_saving(s3_results_blurred_motion_images[i][0]))\n",
    "    cv.imwrite(results_folder + f\"s2_blurred_motion_{i}.png\", normalize_float_image_for_saving(s3_results_blurred_motion_images[i][1]))\n",
    "    cv.imwrite(results_folder + f\"s3_blurred_motion_{i}.png\", normalize_float_image_for_saving(s3_results_blurred_motion_images[i][2]))\n"
   ]
  },
  {
   "cell_type": "code",
   "execution_count": null,
   "id": "23533041",
   "metadata": {},
   "outputs": [],
   "source": [
    "# Load different images to show their blur maps using S3\n",
    "folder = \"tid2008/reference_images/\"\n",
    "images = [\n",
    "    cv.imread(folder + \"I07.BMP\"),\n",
    "    cv.imread(folder + \"I17.BMP\"),\n",
    "    cv.imread(folder + \"I23.BMP\")]\n",
    "\n",
    "# Compute S3 maps for these images\n",
    "s3_results_images = []\n",
    "for img in images:\n",
    "    result = s3.compute_s3(img)  # s1, s2, s3 maps and the final score\n",
    "    s3_results_images.append(result)\n",
    "\n",
    "# Save the results\n",
    "for i, img in enumerate(images):\n",
    "    s3_score = s3_results_images[i][3]  # Final score\n",
    "    cv.imwrite(results_folder + f\"image_{i}_s3_{s3_score:.2f}.png\", img)\n",
    "    cv.imwrite(results_folder + f\"s1_image_{i}.png\", normalize_float_image_for_saving(s3_results_images[i][0]))\n",
    "    cv.imwrite(results_folder + f\"s2_image_{i}.png\", normalize_float_image_for_saving(s3_results_images[i][1]))\n",
    "    cv.imwrite(results_folder + f\"s3_image_{i}.png\", normalize_float_image_for_saving(s3_results_images[i][2]))"
   ]
  }
 ],
 "metadata": {
  "kernelspec": {
   "display_name": "python-12",
   "language": "python",
   "name": "python3"
  },
  "language_info": {
   "codemirror_mode": {
    "name": "ipython",
    "version": 3
   },
   "file_extension": ".py",
   "mimetype": "text/x-python",
   "name": "python",
   "nbconvert_exporter": "python",
   "pygments_lexer": "ipython3",
   "version": "3.12.9"
  }
 },
 "nbformat": 4,
 "nbformat_minor": 5
}
